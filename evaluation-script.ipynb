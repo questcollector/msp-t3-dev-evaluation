{
 "cells": [
  {
   "cell_type": "code",
   "execution_count": 26,
   "metadata": {},
   "outputs": [],
   "source": [
    "# 라이브러리 없는 경우 terminal에서 pip install 하기\n",
    "# pip install pandas requests\n",
    "import pandas as pd\n",
    "import requests"
   ]
  },
  {
   "cell_type": "code",
   "execution_count": 19,
   "metadata": {},
   "outputs": [],
   "source": [
    "# csv 파일 읽어오기\n",
    "# slack에서 멤버 csv 파일 가져오는 법\n",
    "# slack workspace > settings & administration > manage members > Export full member list\n",
    "csv_file = \"sample.csv\" # 멤버 csv 파일 이름으로 지정\n",
    "df = pd.read_csv(csv_file)"
   ]
  },
  {
   "cell_type": "code",
   "execution_count": null,
   "metadata": {},
   "outputs": [],
   "source": [
    "# 수강생 멤버 필터링하기\n",
    "mask = (df['status'] == \"Member\") & (df['billing-active'] == 1)\n",
    "filtered = df.loc[mask, :]\n",
    "filtered.head()"
   ]
  },
  {
   "cell_type": "code",
   "execution_count": null,
   "metadata": {},
   "outputs": [],
   "source": [
    "# API 호출하여 결과 받아오기\n",
    "hostname = \"evaluation.t2-practice-kiyoung-2022.click\"\n",
    "results = []\n",
    "for name in filtered[\"fullname\"]:\n",
    "    response = requests.get(f\"http://{hostname}:8080/api/evaluation/slackUserName/\", params={\"slackUserName\": name})\n",
    "    results.append(response.json())"
   ]
  },
  {
   "cell_type": "code",
   "execution_count": null,
   "metadata": {},
   "outputs": [],
   "source": [
    "# 결과를 데이터프레임에 추가하기\n",
    "import datetime\n",
    "today = datetime.datetime.now().strftime(\"%Y-%m-%dT%H:%M:%S\")\n",
    "filtered[f\"result_{today}\"] = results\n",
    "filtered.head()"
   ]
  },
  {
   "cell_type": "code",
   "execution_count": 12,
   "metadata": {},
   "outputs": [],
   "source": [
    "# 새로운 csv 파일로 저장하기\n",
    "result_csv = \"result.csv\"\n",
    "filtered.to_csv(result_csv, index=False)"
   ]
  }
 ],
 "metadata": {
  "kernelspec": {
   "display_name": "Python 3",
   "language": "python",
   "name": "python3"
  },
  "language_info": {
   "codemirror_mode": {
    "name": "ipython",
    "version": 3
   },
   "file_extension": ".py",
   "mimetype": "text/x-python",
   "name": "python",
   "nbconvert_exporter": "python",
   "pygments_lexer": "ipython3",
   "version": "3.10.2"
  },
  "orig_nbformat": 4
 },
 "nbformat": 4,
 "nbformat_minor": 2
}
